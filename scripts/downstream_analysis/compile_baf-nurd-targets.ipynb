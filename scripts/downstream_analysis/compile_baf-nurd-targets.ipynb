{
 "cells": [
  {
   "cell_type": "markdown",
   "id": "bd3fe1ab-5268-4e4b-89f5-626ab00f2223",
   "metadata": {},
   "source": [
    "# Compiling the BAF/NURD targets based on SMARCA4 K562 ChIP-seq and HDAC1 ChIP-seq from ENCODE:\n",
    "\n",
    "# INPUT: \n",
    "\n",
    "    * NONE, will be downloaded.\n",
    "\n",
    "# OUTPUT: \n",
    "\n",
    "    * targets/\n",
    "\n",
    "# Environment Setup"
   ]
  },
  {
   "cell_type": "code",
   "execution_count": null,
   "id": "ee295830-9b0f-411d-973b-36bb8131338a",
   "metadata": {},
   "outputs": [],
   "source": [
    "work_dir = './'\n",
    "import os\n",
    "os.chdir( work_dir )\n",
    "\n",
    "import numpy as np\n",
    "import pandas as pd\n",
    "\n",
    "import matplotlib.pyplot as plt\n",
    "\n",
    "bedtools_dir = 'third_party_tools/bedtools2/bin/'\n",
    "\n",
    "data_dir = 'targets/'\n",
    "data_dir2 = '231009_index/'\n",
    "data_dir3 = 'edit_capture/data/DE_out_parse_corrected2/superbseq/'\n",
    "data_dir4 = 'edit_capture/data/DE_out_parse_corrected2/sample/'\n",
    "out_dir = data_dir"
   ]
  },
  {
   "cell_type": "code",
   "execution_count": null,
   "id": "fdcfd6b4-6aee-4c5b-9ba1-459802259c01",
   "metadata": {},
   "outputs": [],
   "source": [
    "!mkdir {out_plots}"
   ]
  },
  {
   "cell_type": "code",
   "execution_count": null,
   "id": "dbd591f4-5d49-45bf-a7df-01dfd8669ed6",
   "metadata": {},
   "outputs": [],
   "source": [
    "!mkdir {data_dir}"
   ]
  },
  {
   "cell_type": "markdown",
   "id": "58bea8b3-c7f0-45e6-af5d-cfa12cc24789",
   "metadata": {},
   "source": [
    "# Downloading the data"
   ]
  },
  {
   "cell_type": "code",
   "execution_count": null,
   "id": "c1763f04-266b-4fc9-b5a7-6139c7d08597",
   "metadata": {
    "scrolled": true
   },
   "outputs": [],
   "source": [
    "# SMARCA4 K562 ChIP-seq peaks.\n",
    "!wget https://www.encodeproject.org/files/ENCFF267OGF/@@download/ENCFF267OGF.bed.gz -O {data_dir}smarca4_k562_peaks.bed.gz\n",
    "!echo y | gzip -d {data_dir}smarca4_k562_peaks.bed.gz"
   ]
  },
  {
   "cell_type": "code",
   "execution_count": null,
   "id": "03614f67-b877-424c-972b-2ce66d3c55ce",
   "metadata": {},
   "outputs": [],
   "source": [
    "!head -3 {data_dir}smarca4_k562_peaks.bed"
   ]
  },
  {
   "cell_type": "code",
   "execution_count": null,
   "id": "525d8a26-15f0-401f-b510-4e3f9b405887",
   "metadata": {},
   "outputs": [],
   "source": [
    "!cut -f1,2,3 {data_dir}smarca4_k562_peaks.bed | sort -k1,1 -k2,2n | uniq > {data_dir}smarca4_k562_peaks.regions.bed"
   ]
  },
  {
   "cell_type": "code",
   "execution_count": null,
   "id": "64771551-7520-4641-a27d-5126b2bcc4ac",
   "metadata": {},
   "outputs": [],
   "source": [
    "!head -3 {data_dir}smarca4_k562_peaks.regions.bed"
   ]
  },
  {
   "cell_type": "code",
   "execution_count": null,
   "id": "0bf9f5af-1a76-4255-8fe4-1980a4b0f24c",
   "metadata": {
    "scrolled": true
   },
   "outputs": [],
   "source": [
    "!wget https://www.encodeproject.org/files/ENCFF432KJA/@@download/ENCFF432KJA.bed.gz -O {data_dir}hdac1_k562_peaks.bed.gz\n",
    "!echo y | gzip -d {data_dir}hdac1_k562_peaks.bed.gz"
   ]
  },
  {
   "cell_type": "code",
   "execution_count": null,
   "id": "b2a5a423-dfb1-4464-a545-1301139a0432",
   "metadata": {},
   "outputs": [],
   "source": [
    "!cut -f1,2,3 {data_dir}hdac1_k562_peaks.bed | sort -k1,1 -k2,2n | uniq > {data_dir}hdac1_k562_peaks.regions.bed"
   ]
  },
  {
   "cell_type": "code",
   "execution_count": null,
   "id": "0fd78a2d-a553-4643-81fd-7e73a008a306",
   "metadata": {},
   "outputs": [],
   "source": [
    "!head -3 {data_dir}hdac1_k562_peaks.regions.bed"
   ]
  },
  {
   "cell_type": "code",
   "execution_count": null,
   "id": "6283ece7-941d-41ad-ad2f-a24b76f9b593",
   "metadata": {
    "scrolled": true
   },
   "outputs": [],
   "source": [
    "!wget https://www.encodeproject.org/files/ENCFF652ZZF/@@download/ENCFF652ZZF.bed.gz -O {data_dir}hdac2_k562_peaks.bed.gz\n",
    "!echo y | gzip -d {data_dir}hdac2_k562_peaks.bed.gz"
   ]
  },
  {
   "cell_type": "code",
   "execution_count": null,
   "id": "524348af-82cb-455d-8cdd-0ed98a7f9142",
   "metadata": {},
   "outputs": [],
   "source": [
    "!cut -f1,2,3 {data_dir}hdac2_k562_peaks.bed | sort -k1,1 -k2,2n | uniq > {data_dir}hdac2_k562_peaks.regions.bed"
   ]
  },
  {
   "cell_type": "code",
   "execution_count": null,
   "id": "86e99c92-33d2-45da-99b4-db4e67370de2",
   "metadata": {},
   "outputs": [],
   "source": [
    "!head -3 {data_dir}hdac2_k562_peaks.regions.bed"
   ]
  },
  {
   "cell_type": "markdown",
   "id": "5641e0f3-4e29-4a54-aeff-0f1a310238b5",
   "metadata": {},
   "source": [
    "***Also ATAC-seq to narrow to accessible genes!***"
   ]
  },
  {
   "cell_type": "code",
   "execution_count": null,
   "id": "b6de2f9c-0381-4056-8b72-1a78d1b568ed",
   "metadata": {
    "scrolled": true
   },
   "outputs": [],
   "source": [
    "!wget https://www.encodeproject.org/files/ENCFF333TAT/@@download/ENCFF333TAT.bed.gz -O {data_dir}atac_k562_peaks.bed.gz\n",
    "!echo y | gzip -d {data_dir}atac_k562_peaks.bed.gz"
   ]
  },
  {
   "cell_type": "code",
   "execution_count": null,
   "id": "f79c2f9e-a21a-4b69-8e2c-65ee7805f861",
   "metadata": {},
   "outputs": [],
   "source": [
    "!cut -f1,2,3 {data_dir}atac_k562_peaks.bed | sort -k1,1 -k2,2n | uniq > {data_dir}atac_k562_peaks.regions.bed"
   ]
  },
  {
   "cell_type": "code",
   "execution_count": null,
   "id": "582b89e7-6306-4684-9def-5a050720cacb",
   "metadata": {},
   "outputs": [],
   "source": [
    "!head -3 {data_dir}atac_k562_peaks.regions.bed"
   ]
  },
  {
   "cell_type": "code",
   "execution_count": null,
   "id": "57d04b4a-fc7f-4de1-9e1c-835cc0fd4f34",
   "metadata": {},
   "outputs": [],
   "source": [
    "!wget https://www.encodeproject.org/files/ENCFF985QBS/@@download/ENCFF985QBS.bed.gz -O {data_dir}chd4_k562_peaks.bed.gz\n",
    "!echo y | gzip -d {data_dir}chd4_k562_peaks.bed.gz"
   ]
  },
  {
   "cell_type": "code",
   "execution_count": null,
   "id": "0f90d04a-c7d8-4250-9a19-618e1b3f9fde",
   "metadata": {},
   "outputs": [],
   "source": [
    "!cut -f1,2,3 {data_dir}chd4_k562_peaks.bed | sort -k1,1 -k2,2n | uniq > {data_dir}chd4_k562_peaks.regions.bed"
   ]
  },
  {
   "cell_type": "code",
   "execution_count": null,
   "id": "f34ef6b4-9478-41e0-af95-e7d88bddb596",
   "metadata": {},
   "outputs": [],
   "source": [
    "!head -3 {data_dir}chd4_k562_peaks.regions.bed"
   ]
  },
  {
   "cell_type": "markdown",
   "id": "5e655658-4d83-4128-89fb-69336eb54edc",
   "metadata": {},
   "source": [
    "***NRF1 targets!!!***"
   ]
  },
  {
   "cell_type": "code",
   "execution_count": null,
   "id": "4135b7ba-8f4c-4768-b984-2781f9474b3e",
   "metadata": {},
   "outputs": [],
   "source": [
    "!wget https://www.encodeproject.org/files/ENCFF259YUE/@@download/ENCFF259YUE.bed.gz -O {data_dir}nrf1_k562_peaks.bed.gz\n",
    "!echo y | gzip -d {data_dir}nrf1_k562_peaks.bed.gz"
   ]
  },
  {
   "cell_type": "code",
   "execution_count": null,
   "id": "359589e5-5a75-4657-a6d7-f2d3cb68008a",
   "metadata": {},
   "outputs": [],
   "source": [
    "!cut -f1,2,3 {data_dir}nrf1_k562_peaks.bed | sort -k1,1 -k2,2n | uniq > {data_dir}nrf1_k562_peaks.regions.bed"
   ]
  },
  {
   "cell_type": "code",
   "execution_count": null,
   "id": "e5214500-3936-4c4d-9b97-90029c36da48",
   "metadata": {},
   "outputs": [],
   "source": [
    "!head -3 {data_dir}nrf1_k562_peaks.regions.bed"
   ]
  },
  {
   "cell_type": "markdown",
   "id": "3e4b75b8-2398-4458-9fd5-9e80ae9fe6be",
   "metadata": {},
   "source": [
    "# Determining gene TSS"
   ]
  },
  {
   "cell_type": "code",
   "execution_count": null,
   "id": "9e7701c3-d6fb-4954-b479-504df17b83e4",
   "metadata": {},
   "outputs": [],
   "source": [
    "!zcat {data_dir2}Homo_sapiens.GRCh38.110.gtf.gz | grep \"\tgene\t\" | cut -f1,4,5,7,9 > {data_dir}hg38_genes.txt\n",
    "!head -3 {data_dir}hg38_genes.txt"
   ]
  },
  {
   "cell_type": "code",
   "execution_count": null,
   "id": "731e8c58-099c-47b1-a6a3-b4632318d208",
   "metadata": {},
   "outputs": [],
   "source": [
    "#### Parsing to get transcription start sites!\n",
    "gene_info = open(f'{data_dir}hg38_genes.txt', 'r')\n",
    "tss_bed = open(f'{data_dir}hg38_tss.bed', 'w')\n",
    "\n",
    "window=200\n",
    "for line in gene_info:\n",
    "\n",
    "    #### Positional information.\n",
    "    info_split = line.split('\\t')\n",
    "\n",
    "    chr_ = f'chr{info_split[0]}'\n",
    "    if info_split[3]==\"+\":\n",
    "        tss_pos = int(info_split[1])\n",
    "    else:\n",
    "        tss_pos = int(info_split[2])\n",
    "\n",
    "    region_start, region_end = tss_pos - window, tss_pos + window\n",
    "\n",
    "    #### Gene information\n",
    "    gene_split = info_split[-1].split(';')\n",
    "    gene_name = [split_ for split_ in gene_split if 'gene_name' in split_]\n",
    "    if len(gene_name) > 0:\n",
    "        gene_name = gene_name[0].split('\"')[1]\n",
    "    else:\n",
    "        gene_name = [split_ for split_ in gene_split if 'gene_id' in split_][0].split('\"')[1]\n",
    "\n",
    "    #### Writing out the information.\n",
    "    tss_bed.write(f'{chr_}\\t{region_start}\\t{region_end}\\t{gene_name}\\n')\n",
    "\n",
    "gene_info.close()\n",
    "tss_bed.close()"
   ]
  },
  {
   "cell_type": "code",
   "execution_count": null,
   "id": "6f37681e-4a00-437b-9143-336d55a04393",
   "metadata": {},
   "outputs": [],
   "source": [
    "!cat {data_dir}hg38_tss.bed | sort -k1,1 -k2,2n | uniq > {data_dir}hg38_tss.sorted.bed"
   ]
  },
  {
   "cell_type": "code",
   "execution_count": null,
   "id": "cd389450-e416-429f-8989-915d47f7416a",
   "metadata": {},
   "outputs": [],
   "source": [
    "!head {data_dir}hg38_tss.sorted.bed"
   ]
  },
  {
   "cell_type": "code",
   "execution_count": null,
   "id": "2611da94-73d2-4da9-a209-344728171b0a",
   "metadata": {},
   "outputs": [],
   "source": [
    "!wc -l {data_dir}hg38_tss.sorted.bed"
   ]
  },
  {
   "cell_type": "markdown",
   "id": "a57d8ec3-446f-41f5-b47e-3b2e7d4849a6",
   "metadata": {},
   "source": [
    "***Looking good!***"
   ]
  },
  {
   "cell_type": "markdown",
   "id": "1606579b-c3e0-45a3-a204-a34d144169c7",
   "metadata": {},
   "source": [
    "# Intersecting to get the genes!"
   ]
  },
  {
   "cell_type": "markdown",
   "id": "6150a874-57d1-4d5c-b0ad-2c887e026626",
   "metadata": {},
   "source": [
    "***First let's get genes with an open promoter***"
   ]
  },
  {
   "cell_type": "markdown",
   "id": "c2c55021-e883-43c9-96e2-b46cae4d6a57",
   "metadata": {},
   "source": [
    "BAF complex: https://www.ncbi.nlm.nih.gov/pmc/articles/PMC4968166/"
   ]
  },
  {
   "cell_type": "code",
   "execution_count": null,
   "id": "5254e3f4-6604-4035-b808-eac52d25721a",
   "metadata": {},
   "outputs": [],
   "source": [
    "!{bedtools_dir}bedtools intersect -wa -a {data_dir}hg38_tss.sorted.bed -b {data_dir}atac_k562_peaks.regions.bed | sort -k1,1 -k2,2n | uniq > {data_dir}atac_k562_genes.bed\n",
    "!head {data_dir}atac_k562_genes.bed"
   ]
  },
  {
   "cell_type": "code",
   "execution_count": null,
   "id": "cb724b4f-780e-491c-abde-f9fba131bcf1",
   "metadata": {},
   "outputs": [],
   "source": [
    "!wc -l {data_dir}atac_k562_genes.bed"
   ]
  },
  {
   "cell_type": "markdown",
   "id": "9549cdca-18cc-4fac-84ff-79437923aef8",
   "metadata": {},
   "source": [
    "***Now getting smarca4 marked genes with open promoters***"
   ]
  },
  {
   "cell_type": "code",
   "execution_count": null,
   "id": "d300d178-9954-4d65-adca-15aea75bb74d",
   "metadata": {},
   "outputs": [],
   "source": [
    "!{bedtools_dir}bedtools intersect -wa -a {data_dir}atac_k562_genes.bed -b {data_dir}smarca4_k562_peaks.regions.bed | sort -k1,1 -k2,2n | uniq > {data_dir}smarca4_k562_genes.bed\n",
    "!head {data_dir}smarca4_k562_genes.bed"
   ]
  },
  {
   "cell_type": "code",
   "execution_count": null,
   "id": "afe0bb73-2e3c-45f4-90dd-75a130e7a307",
   "metadata": {},
   "outputs": [],
   "source": [
    "!cat {data_dir}smarca4_k562_genes.bed | cut -f4 | sort | uniq > {data_dir}smarca4_k562_genes.txt\n",
    "!wc -l {data_dir}smarca4_k562_genes.txt"
   ]
  },
  {
   "cell_type": "markdown",
   "id": "95234e41-d181-4f3d-97af-0ecb2a61220c",
   "metadata": {},
   "source": [
    "Seems like a reasonable number!\n",
    "\n",
    "***Checking these in the ENCODE genome browser verified they do have SMARCA4 K562 CHIP-seq promoter!***"
   ]
  },
  {
   "cell_type": "markdown",
   "id": "c37e8c79-1bd7-4257-b609-7b5117233d34",
   "metadata": {},
   "source": [
    "***Much more reasonable number!!!***"
   ]
  },
  {
   "cell_type": "markdown",
   "id": "a0249246-e90f-4c0d-a67b-7b6c9673911f",
   "metadata": {},
   "source": [
    "***Try with chd4 only***"
   ]
  },
  {
   "cell_type": "code",
   "execution_count": null,
   "id": "23117c4c-8aa7-4b64-81b6-e8473e4a0eb0",
   "metadata": {},
   "outputs": [],
   "source": [
    "!{bedtools_dir}bedtools intersect -wa -a {data_dir}hg38_tss.sorted.bed -b {data_dir}chd4_k562_peaks.regions.bed | sort -k1,1 -k2,2n | uniq > {data_dir}chd4_k562_genes.bed\n",
    "!head {data_dir}chd4_k562_genes.bed"
   ]
  },
  {
   "cell_type": "code",
   "execution_count": null,
   "id": "5cd5a7ab-ce8f-4420-a4b6-f9455d31722e",
   "metadata": {},
   "outputs": [],
   "source": [
    "!cat {data_dir}chd4_k562_genes.bed | cut -f4 | sort | uniq > {data_dir}chd4_k562_genes.txt\n",
    "!wc -l {data_dir}chd4_k562_genes.txt"
   ]
  },
  {
   "cell_type": "code",
   "execution_count": null,
   "outputs": [],
   "source": [
    "!{bedtools_dir}bedtools intersect -wa -a {data_dir}hg38_tss.sorted.bed -b {data_dir}atac_k562_peaks.regions.bed | sort -k1,1 -k2,2n | uniq > {data_dir}atac_k562_genes.bed\n",
    "!head {data_dir}atac_k562_genes.bed"
   ],
   "metadata": {
    "collapsed": false
   },
   "id": "b7b25a95-af5b-439e-8a69-0cdea2a54ec8"
  },
  {
   "cell_type": "markdown",
   "id": "4f2733ca-a014-420e-a2cb-937f5a6318f6",
   "metadata": {},
   "source": [
    "# Candidate targets based on enhancer - gene associations!!\n",
    "\n",
    "Speaking with Alex, he said the SMARCA4 ChIP-seq peaks that intersect with promoters would likely enrich for p-BAF, which is one of 3 BAF complexes that is more promoter associated. SMARCA4 is found in all BAF complexes. However, ARID1A is found in the more enhancer-associated BAF complexes, so would be worth finding gene targets based on enhancers as well. SO will also try and get a set of targets based on enhancers also!!!\n",
    "\n",
    "Reading about this, this resource appears very useful, and has cell-line / cell type specific targets:\n",
    "\n",
    "    https://academic.oup.com/nar/article/48/D1/D58/5628925\n",
    "\n",
    "Specifically, can get the K562 enhancer - gene associations from this file (NOTE checked the coordinates in the genome browser and look to correspond to hg19!):\n",
    "\n",
    "    http://www.enhanceratlas.org/data/AllEPs/hs/K562_EP.txt\n",
    "    "
   ]
  },
  {
   "cell_type": "code",
   "execution_count": null,
   "id": "13aa1395-2a3d-4cbd-a04e-a6c99ceaaefe",
   "metadata": {},
   "outputs": [],
   "source": [
    "!wget http://www.enhanceratlas.org/data/AllEPs/hs/K562_EP.txt -O {data_dir}K562_EP.hg19.txt"
   ]
  },
  {
   "cell_type": "code",
   "execution_count": null,
   "id": "c0dfd296-eb98-456b-ac49-b0eab331b323",
   "metadata": {},
   "outputs": [],
   "source": [
    "!head -3 {data_dir}K562_EP.hg19.txt"
   ]
  },
  {
   "cell_type": "code",
   "execution_count": null,
   "id": "93fd2833-2112-4558-897c-2ea3319605d2",
   "metadata": {},
   "outputs": [],
   "source": [
    "#### Let's determine a cutoff for a good association first!\n",
    "enhancer_gene = pd.read_csv(f'{data_dir}K562_EP.hg19.txt', sep='\\t', header=None)\n",
    "enhancer_gene.head(3)"
   ]
  },
  {
   "cell_type": "code",
   "execution_count": null,
   "id": "48612d75-7364-4d5e-98b0-582d5e238749",
   "metadata": {},
   "outputs": [],
   "source": [
    "scores = enhancer_gene[1].values\n",
    "scores"
   ]
  },
  {
   "cell_type": "code",
   "execution_count": null,
   "id": "34fb515f-4170-4b73-b64f-1cb7724bbe73",
   "metadata": {},
   "outputs": [],
   "source": [
    "plt.hist(scores, bins=100)\n",
    "plt.show()"
   ]
  },
  {
   "cell_type": "code",
   "execution_count": null,
   "id": "b286a07e-f807-4e0f-9e8e-bb6920f6564e",
   "metadata": {},
   "outputs": [],
   "source": [
    "score_cutoff = 2\n",
    "sum(scores >= score_cutoff)"
   ]
  },
  {
   "cell_type": "code",
   "execution_count": null,
   "id": "c7f5a3ac-47b1-4421-8aba-974c738215be",
   "metadata": {},
   "outputs": [],
   "source": [
    "#### Let's load it and reformat it...\n",
    "enh_to_gene_file = open(f'{data_dir}K562_EP.hg19.txt', 'r')\n",
    "enh_to_gene_bed_file = open(f'{data_dir}K562_EP.hg19.bed', 'w')\n",
    "for line in enh_to_gene_file:\n",
    "    score = float( line.split('\\t')[1] ) \n",
    "    if score < score_cutoff: # Only keep confident links.\n",
    "        continue\n",
    "        \n",
    "    info = line.split('\\t')[0].split('$')\n",
    "    enh, gene = info[0], info[1]\n",
    "    \n",
    "    enh_chr, enh_start, enh_end = enh.split(':')[0], enh.split(':')[1].split('-')[0], enh.split(':')[1].split('-')[1].split('_')[0]\n",
    "\n",
    "    enh_to_gene_bed_file.write(f'{enh_chr}\\t{enh_start}\\t{enh_end}\\t{gene}\\n')\n",
    "\n",
    "enh_to_gene_bed_file.close()\n",
    "enh_to_gene_file.close()"
   ]
  },
  {
   "cell_type": "code",
   "execution_count": null,
   "id": "4e6f5fe1-a9a4-4fd7-93e1-cebc48c3b0d9",
   "metadata": {},
   "outputs": [],
   "source": [
    "!head {data_dir}K562_EP.hg19.bed"
   ]
  },
  {
   "cell_type": "code",
   "execution_count": null,
   "id": "264d4abf-8b33-4e1b-89df-0aad9f8bfdf7",
   "metadata": {},
   "outputs": [],
   "source": [
    "!ls -s -h {data_dir}K562_EP.hg19.bed"
   ]
  },
  {
   "cell_type": "code",
   "execution_count": null,
   "id": "97321039-d1ac-47c3-8a9b-1950790dfc86",
   "metadata": {},
   "outputs": [],
   "source": [
    "#### Used liftOver to convert to hg38 coords: https://genome.ucsc.edu/cgi-bin/hgLiftOver\n",
    "!head {data_dir}K562_EP.hg19.lifted-to-hg38.bed"
   ]
  },
  {
   "cell_type": "code",
   "execution_count": null,
   "id": "bb4de4d1-b785-4c88-b933-02df7332794f",
   "metadata": {},
   "outputs": [],
   "source": [
    "#### Removing the extra column added by liftOver\n",
    "!cut -f1-4 {data_dir}K562_EP.hg19.lifted-to-hg38.bed > {data_dir}K562_EP.hg19.lifted-to-hg38.sub.bed"
   ]
  },
  {
   "cell_type": "code",
   "execution_count": null,
   "id": "1b3246fa-1817-4b75-95e2-4150f867e40e",
   "metadata": {},
   "outputs": [],
   "source": [
    "!head -3 {data_dir}K562_EP.hg19.lifted-to-hg38.sub.bed"
   ]
  },
  {
   "cell_type": "code",
   "execution_count": null,
   "id": "6119f258-e94e-4821-a3ed-1a506268a311",
   "metadata": {},
   "outputs": [],
   "source": [
    "!{bedtools_dir}bedtools intersect -wa -a {data_dir}K562_EP.hg19.lifted-to-hg38.sub.bed -b {data_dir}atac_k562_peaks.regions.bed | sort -k1,1 -k2,2n | uniq > {data_dir}K562_EP.hg19.lifted-to-hg38.sub.atac.bed\n",
    "!head -3 {data_dir}K562_EP.hg19.lifted-to-hg38.sub.atac.bed\n"
   ]
  },
  {
   "cell_type": "code",
   "execution_count": null,
   "id": "467395be-8fcc-41dc-a3e7-04e029864cec",
   "metadata": {},
   "outputs": [],
   "source": [
    "!wc -l {data_dir}K562_EP.hg19.lifted-to-hg38.sub.atac.bed"
   ]
  },
  {
   "cell_type": "code",
   "execution_count": null,
   "id": "89b1a075-1af6-45c6-a792-3bb84280fe2b",
   "metadata": {},
   "outputs": [],
   "source": [
    "!{bedtools_dir}bedtools intersect -wa -a {data_dir}K562_EP.hg19.lifted-to-hg38.sub.atac.bed -b {data_dir}smarca4_k562_peaks.regions.bed | sort -k1,1 -k2,2n | uniq > {data_dir}smarca4_k562_genes.enhancer.bed\n",
    "!head {data_dir}smarca4_k562_genes.enhancer.bed"
   ]
  },
  {
   "cell_type": "code",
   "execution_count": null,
   "id": "47b6b083-35b0-4d5d-a3a7-1d5ed98a4ddc",
   "metadata": {},
   "outputs": [],
   "source": [
    "!wc -l {data_dir}smarca4_k562_genes.enhancer.bed"
   ]
  },
  {
   "cell_type": "code",
   "execution_count": null,
   "id": "de046672-2172-46b1-8e97-5ff5bea271a8",
   "metadata": {},
   "outputs": [],
   "source": [
    "!cat {data_dir}smarca4_k562_genes.enhancer.bed | cut -f4 | sort | uniq > {data_dir}smarca4_k562_genes.enhancer.genes.txt \n",
    "!wc -l {data_dir}smarca4_k562_genes.enhancer.genes.txt"
   ]
  },
  {
   "cell_type": "code",
   "execution_count": null,
   "id": "8664df1d-f49a-4c8f-870e-394edc7691cc",
   "metadata": {},
   "outputs": [],
   "source": [
    "!head {data_dir}smarca4_k562_genes.enhancer.genes.txt"
   ]
  },
  {
   "cell_type": "code",
   "execution_count": null,
   "id": "bf2bb2d1-8f08-42c6-88c5-fe19ac55abda",
   "metadata": {},
   "outputs": [],
   "source": [
    "### Checking overlap with the promoter genes...\n",
    "smarca4_prom_genes = set([line.strip('\\n') for line in open(f'{data_dir}smarca4_k562_genes.txt', 'r')])\n",
    "smarca4_enh_genes = set([line.strip('\\n') for line in open(f'{data_dir}smarca4_k562_genes.enhancer.genes.txt', 'r')])\n",
    "\n",
    "len(smarca4_prom_genes), len(smarca4_enh_genes)"
   ]
  },
  {
   "cell_type": "code",
   "execution_count": null,
   "id": "ed867af5-d2e2-4328-86d0-a63712a79a94",
   "metadata": {},
   "outputs": [],
   "source": [
    "from matplotlib_venn import venn2\n",
    "\n",
    "plt.figure(figsize=(8, 8))\n",
    "venn = venn2([smarca4_prom_genes, smarca4_enh_genes], ('Smarca4 promoter genes', 'Smarca4 enhancer genes'))\n",
    "\n",
    "# Display the Venn diagram\n",
    "plt.title(\"Overlap between SMARCA4 targets by promoter versus by enhancer\")\n",
    "plt.show()"
   ]
  },
  {
   "cell_type": "markdown",
   "id": "a0b0ac78-052b-4f5f-9056-91453e660422",
   "metadata": {},
   "source": [
    "***Some level of overlap, but they do look like largely unique sets of genes! Good to know***"
   ]
  },
  {
   "cell_type": "markdown",
   "id": "cce35361-27ee-41ef-9074-2493a7a7c203",
   "metadata": {},
   "source": [
    "# NRF1 targets"
   ]
  },
  {
   "cell_type": "code",
   "execution_count": null,
   "id": "0f71bbd7-ee0d-411f-8264-50d2610804be",
   "metadata": {},
   "outputs": [],
   "source": [
    "!{bedtools_dir}bedtools intersect -wa -a {data_dir}hg38_tss.sorted.bed -b {data_dir}nrf1_k562_peaks.regions.bed | sort -k1,1 -k2,2n | uniq > {data_dir}nrf1_k562_peaks.genes.bed\n",
    "!head {data_dir}nrf1_k562_peaks.genes.bed\n"
   ]
  },
  {
   "cell_type": "code",
   "execution_count": null,
   "id": "5308b531-eb0a-4874-bceb-50b0ff17ed38",
   "metadata": {},
   "outputs": [],
   "source": [
    "!cut -f4 {data_dir}nrf1_k562_peaks.genes.bed | sort | uniq > {data_dir}nrf1_k562_peaks.genes.txt"
   ]
  },
  {
   "cell_type": "code",
   "execution_count": null,
   "id": "6f1bb2bc-993d-4640-b76a-30d400c47bc2",
   "metadata": {},
   "outputs": [],
   "source": [
    "!head {data_dir}nrf1_k562_peaks.genes.txt"
   ]
  },
  {
   "cell_type": "markdown",
   "id": "718e1bdb-310f-4516-8426-f2575d695db1",
   "metadata": {},
   "source": [
    "***Trying to subset to open chromatin***"
   ]
  },
  {
   "cell_type": "code",
   "execution_count": null,
   "id": "f676e35b-78c4-49e7-bba3-40439b04ed8c",
   "metadata": {},
   "outputs": [],
   "source": [
    "!{bedtools_dir}bedtools intersect -wa -a {data_dir}nrf1_k562_peaks.genes.bed -b {data_dir}atac_k562_genes.bed | sort -k1,1 -k2,2n | uniq > {data_dir}nrf1_k562_peaks.genes.open.bed\n",
    "!head {data_dir}nrf1_k562_peaks.genes.open.bed\n"
   ]
  },
  {
   "cell_type": "code",
   "execution_count": null,
   "id": "f9b9cbba-d7e2-4c62-964a-f2b7df219e10",
   "metadata": {},
   "outputs": [],
   "source": [
    "!cut -f4 {data_dir}nrf1_k562_peaks.genes.open.bed | sort | uniq > {data_dir}nrf1_k562_peaks.genes.open.txt"
   ]
  },
  {
   "cell_type": "code",
   "execution_count": null,
   "id": "8e2bab62-5c51-4f63-a5f5-7ea8d2e5c7ed",
   "metadata": {},
   "outputs": [],
   "source": [
    "!head {data_dir}nrf1_k562_peaks.genes.open.txt"
   ]
  }
 ],
 "metadata": {
  "kernelspec": {
   "display_name": "Python 3 (ipykernel)",
   "language": "python",
   "name": "python3"
  },
  "language_info": {
   "codemirror_mode": {
    "name": "ipython",
    "version": 3
   },
   "file_extension": ".py",
   "mimetype": "text/x-python",
   "name": "python",
   "nbconvert_exporter": "python",
   "pygments_lexer": "ipython3",
   "version": "3.8.18"
  }
 },
 "nbformat": 4,
 "nbformat_minor": 5
}
